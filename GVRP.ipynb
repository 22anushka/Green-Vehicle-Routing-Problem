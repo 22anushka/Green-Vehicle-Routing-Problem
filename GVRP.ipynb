{
  "nbformat": 4,
  "nbformat_minor": 0,
  "metadata": {
    "colab": {
      "provenance": [],
      "include_colab_link": true
    },
    "kernelspec": {
      "name": "python3",
      "display_name": "Python 3"
    },
    "language_info": {
      "name": "python"
    }
  },
  "cells": [
    {
      "cell_type": "markdown",
      "metadata": {
        "id": "view-in-github",
        "colab_type": "text"
      },
      "source": [
        "<a href=\"https://colab.research.google.com/github/22anushka/Green-Vehicle-Routing-Problem/blob/main/GVRP.ipynb\" target=\"_parent\"><img src=\"https://colab.research.google.com/assets/colab-badge.svg\" alt=\"Open In Colab\"/></a>"
      ]
    },
    {
      "cell_type": "markdown",
      "source": [
        "\n",
        "\n",
        "```\n",
        "@author Asmi S, Dhakshina R, Anushka S\n",
        "```\n",
        "\n"
      ],
      "metadata": {
        "id": "uMDI17ptOfS6"
      }
    },
    {
      "cell_type": "markdown",
      "source": [
        "# Installing Libraries"
      ],
      "metadata": {
        "id": "-QoBWrToL4jK"
      }
    },
    {
      "cell_type": "code",
      "source": [
        "!pip install -q pulp"
      ],
      "metadata": {
        "id": "0vY1gEaJKXM9"
      },
      "execution_count": null,
      "outputs": []
    },
    {
      "cell_type": "code",
      "execution_count": null,
      "metadata": {
        "id": "9LPYcGaJDY19"
      },
      "outputs": [],
      "source": [
        "from pulp import *\n",
        "import numpy as np\n",
        "import pandas as pd\n",
        "import matplotlib.pyplot as plt\n",
        "%matplotlib inline\n",
        "import seaborn as sn"
      ]
    },
    {
      "cell_type": "markdown",
      "source": [
        "# Loading the Dataset"
      ],
      "metadata": {
        "id": "elJFRd1uMYvA"
      }
    },
    {
      "cell_type": "code",
      "source": [
        "sites = ['Barcelona','Belgrade','Berlin','Brussels','Bucharest','Budapest','Copenhagen','Dublin','Hamburg','Istanbul','Kiev',\n",
        "         'London','Madrid','Milan','Moscow','Munich','Paris','Prague','Rome','Saint Petersburg','Sofia','Stockholm','Vienna','Warsaw']\n",
        "latlng = ['latitude', 'longitude']\n",
        "position = pd.read_csv('/content/position.csv', index_col=\"City\")\n",
        "flighttime = pd.read_csv('/content/flight_time.csv', index_col=\"City\")\n",
        "distance = pd.read_csv('/content/distance.csv', index_col=\"City\")"
      ],
      "metadata": {
        "id": "z_OG7nZJDp3V"
      },
      "execution_count": null,
      "outputs": []
    },
    {
      "cell_type": "code",
      "source": [
        "print(position)"
      ],
      "metadata": {
        "colab": {
          "base_uri": "https://localhost:8080/"
        },
        "id": "7r-ynPAZPEO5",
        "outputId": "4bd3d4d9-60b0-4e6b-f09e-583e07b2b03c"
      },
      "execution_count": null,
      "outputs": [
        {
          "output_type": "stream",
          "name": "stdout",
          "text": [
            "                  latitude  longitude\n",
            "City                                 \n",
            "Barcelona          41.3888     2.1590\n",
            "Belgrade           44.8040    20.4651\n",
            "Berlin             52.5244    13.4105\n",
            "Brussels           50.8505     4.3488\n",
            "Bucharest          44.4323    26.1063\n",
            "Budapest           47.4980    19.0399\n",
            "Copenhagen         55.6759    12.5655\n",
            "Dublin             53.3331    -6.2489\n",
            "Hamburg            53.5753    10.0153\n",
            "Istanbul           41.0138    28.9497\n",
            "Kiev               50.4547    30.5238\n",
            "London             51.5085    -0.1257\n",
            "Madrid             40.4165    -3.7026\n",
            "Milan              45.5928    12.1728\n",
            "Moscow             55.7522    37.6156\n",
            "Munich             48.1374    11.5755\n",
            "Paris              48.8534     2.3488\n",
            "Prague             50.0880    14.4208\n",
            "Rome               41.8919    12.5113\n",
            "Saint Petersburg   59.9386    30.3141\n",
            "Sofia              42.6975    23.3241\n",
            "Stockholm          59.3326    18.0649\n",
            "Vienna             48.2085    16.3721\n",
            "Warsaw             52.2298    21.0118\n"
          ]
        }
      ]
    },
    {
      "cell_type": "code",
      "source": [
        "print(flighttime)"
      ],
      "metadata": {
        "colab": {
          "base_uri": "https://localhost:8080/"
        },
        "id": "SRkQ1-JlPHnM",
        "outputId": "0ce4f938-4c85-450a-927b-4735be94653d"
      },
      "execution_count": null,
      "outputs": [
        {
          "output_type": "stream",
          "name": "stdout",
          "text": [
            "                  Barcelona  Belgrade  Berlin  Brussels  Bucharest  Budapest  \\\n",
            "City                                                                           \n",
            "Barcelona                 0       379     373       336        416       383   \n",
            "Belgrade                379         0     326       361        274       270   \n",
            "Berlin                  373       326       0       291        349       305   \n",
            "Brussels                336       361     291         0        394       347   \n",
            "Bucharest               416       274     349       394          0       295   \n",
            "Budapest                383       270     305       347        295         0   \n",
            "Copenhagen              397       355     261       301        373       333   \n",
            "Dublin                  372       433     352       305        465       418   \n",
            "Hamburg                 369       345     145       273        369       324   \n",
            "Istanbul                444       312     395       436        273       339   \n",
            "Kiev                    455       323     341       400        295       319   \n",
            "London                  343       392     318       265        425       378   \n",
            "Madrid                  178       425     408       359        463       428   \n",
            "Milan                   318       290     299       305        327       289   \n",
            "Moscow                  533       413     398       459        388       404   \n",
            "Munich                  355       325     190       308        358       312   \n",
            "Paris                   315       372     317       264        407       361   \n",
            "Prague                  362       305     258       299        332       285   \n",
            "Rome                    318       302     345       346        337       318   \n",
            "Saint Petersburg        502       407     359       414        396       390   \n",
            "Sofia                   395       263     351       388        254       294   \n",
            "Stockholm               444       382     303       348        388       360   \n",
            "Vienna                  370       286     290       327        316       268   \n",
            "Warsaw                  405       308     277       337        313       287   \n",
            "\n",
            "                  Copenhagen  Dublin  Hamburg  Istanbul  ...  Moscow  Munich  \\\n",
            "City                                                     ...                   \n",
            "Barcelona                397     372      369       444  ...     533     355   \n",
            "Belgrade                 355     433      345       312  ...     413     325   \n",
            "Berlin                   261     352      145       395  ...     398     190   \n",
            "Brussels                 301     305      273       436  ...     459     308   \n",
            "Bucharest                373     465      369       273  ...     388     358   \n",
            "Budapest                 333     418      324       339  ...     404     312   \n",
            "Copenhagen                 0     345      252       419  ...     392     325   \n",
            "Dublin                   345       0      327       508  ...     508     380   \n",
            "Hamburg                  252     327        0       415  ...     410     198   \n",
            "Istanbul                 419     508      415         0  ...     418     400   \n",
            "Kiev                     350     463      359       330  ...     320     376   \n",
            "London                   321     278      296       467  ...     483     338   \n",
            "Madrid                   426     371      398       491  ...     573     395   \n",
            "Milan                    329     375      308       364  ...     441     276   \n",
            "Moscow                   392     508      410       418  ...       0     449   \n",
            "Munich                   325     380      198       400  ...     449       0   \n",
            "Paris                    331     310      303       447  ...     486     320   \n",
            "Prague                   289     368      275       376  ...     407     277   \n",
            "Rome                     375     411      354       362  ...     474     322   \n",
            "Saint Petersburg         342     452      364       435  ...     207     419   \n",
            "Sofia                    379     459      370       276  ...     413     351   \n",
            "Stockholm                276     379      299       434  ...     360     368   \n",
            "Vienna                   320     399      308       359  ...     414     293   \n",
            "Warsaw                   289     399      295       360  ...     355     321   \n",
            "\n",
            "                  Paris  Prague  Rome  Saint Petersburg  Sofia  Stockholm  \\\n",
            "City                                                                        \n",
            "Barcelona           315     362   318               502    395        444   \n",
            "Belgrade            372     305   302               407    263        382   \n",
            "Berlin              317     258   345               359    351        303   \n",
            "Brussels            264     299   346               414    388        348   \n",
            "Bucharest           407     332   337               396    254        388   \n",
            "Budapest            361     285   318               390    294        360   \n",
            "Copenhagen          331     289   375               342    379        276   \n",
            "Dublin              310     368   411               452    459        379   \n",
            "Hamburg             303     275   354               364    370        299   \n",
            "Istanbul            447     376   362               435    276        434   \n",
            "Kiev                422     338   387               332    320        345   \n",
            "London              271     330   371               434    418        363   \n",
            "Madrid              336     400   365               537    442        473   \n",
            "Milan               308     277   165               417    313        371   \n",
            "Moscow              486     407   474               207    413        360   \n",
            "Munich              320     277   322               419    351        368   \n",
            "Paris                 0     319   342               444    397        378   \n",
            "Prague              319       0   322               377    331        328   \n",
            "Rome                342     322     0               458    314        416   \n",
            "Saint Petersburg    444     377   458                 0    417        299   \n",
            "Sofia               397     331   314               417      0        401   \n",
            "Stockholm           378     328   416               299    401          0   \n",
            "Vienna              342     268   314               393    312        354   \n",
            "Warsaw              361     279   354               330    325        303   \n",
            "\n",
            "                  Vienna  Warsaw  \n",
            "City                              \n",
            "Barcelona            370     405  \n",
            "Belgrade             286     308  \n",
            "Berlin               290     277  \n",
            "Brussels             327     337  \n",
            "Bucharest            316     313  \n",
            "Budapest             268     287  \n",
            "Copenhagen           320     289  \n",
            "Dublin               399     399  \n",
            "Hamburg              308     295  \n",
            "Istanbul             359     360  \n",
            "Kiev                 334     291  \n",
            "London               358     365  \n",
            "Madrid               413     445  \n",
            "Milan                276     315  \n",
            "Moscow               414     355  \n",
            "Munich               293     321  \n",
            "Paris                342     361  \n",
            "Prague               268     279  \n",
            "Rome                 314     354  \n",
            "Saint Petersburg     393     330  \n",
            "Sofia                312     325  \n",
            "Stockholm            354     303  \n",
            "Vienna                 0     289  \n",
            "Warsaw               289       0  \n",
            "\n",
            "[24 rows x 24 columns]\n"
          ]
        }
      ]
    },
    {
      "cell_type": "code",
      "source": [
        "print(distance)"
      ],
      "metadata": {
        "colab": {
          "base_uri": "https://localhost:8080/"
        },
        "id": "heawjA3YPMmN",
        "outputId": "f0db4b8e-d67c-47fb-bd3c-a285a1dcad6a"
      },
      "execution_count": null,
      "outputs": [
        {
          "output_type": "stream",
          "name": "stdout",
          "text": [
            "                  Barcelona  Belgrade   Berlin  Brussels  Bucharest  Budapest  \\\n",
            "City                                                                            \n",
            "Barcelona              0.00   1528.13  1497.61   1062.89    1968.42   1498.79   \n",
            "Belgrade            1528.13      0.00   999.25   1372.59     447.34    316.41   \n",
            "Berlin              1497.61    999.25     0.00    651.62    1293.40    689.06   \n",
            "Brussels            1062.89   1372.59   651.62      0.00    1769.69   1131.52   \n",
            "Bucharest           1968.42    447.34  1293.40   1769.69       0.00    639.77   \n",
            "Budapest            1498.79    316.41   689.06   1131.52     639.77      0.00   \n",
            "Copenhagen          1757.54   1327.24   354.03    766.67    1571.54   1011.31   \n",
            "Dublin              1469.29   2145.39  1315.16    773.20    2534.72   1894.95   \n",
            "Hamburg             1471.78   1229.93   254.51    489.76    1544.17    927.92   \n",
            "Istanbul            2230.42    809.48  1735.01   2178.85     445.62   1064.76   \n",
            "Kiev                2391.06    976.02  1204.00   1836.20     744.44    894.29   \n",
            "London              1137.67   1688.97   929.97    318.72    2088.42   1450.12   \n",
            "Madrid               504.64   2026.94  1867.69   1314.30    2469.71   1975.38   \n",
            "Milan                725.12    885.32   840.72    696.61    1331.46    788.56   \n",
            "Moscow              3006.93   1710.99  1607.99   2253.26    1497.56   1565.19   \n",
            "Munich              1054.55    773.33   501.97    601.87    1186.37    563.93   \n",
            "Paris                831.59   1445.70   876.96    261.29    1869.95   1247.61   \n",
            "Prague              1353.90    738.10   280.34    721.08    1076.82    443.26   \n",
            "Rome                 856.69    721.55  1181.67   1171.34    1137.38    811.11   \n",
            "Saint Petersburg    2813.02   1797.75  1319.62   1903.66    1740.39   1556.51   \n",
            "Sofia               1745.55    329.46  1318.67   1697.83     296.68    629.63   \n",
            "Stockholm           2276.51   1620.96   810.38   1280.88    1742.25   1316.59   \n",
            "Vienna              1347.43    489.28   523.61    914.81     855.32    216.98   \n",
            "Warsaw              1862.33    826.66   516.06   1159.85     946.12    545.29   \n",
            "\n",
            "                  Copenhagen   Dublin  Hamburg  Istanbul  ...   Moscow  \\\n",
            "City                                                      ...            \n",
            "Barcelona            1757.54  1469.29  1471.78   2230.42  ...  3006.93   \n",
            "Belgrade             1327.24  2145.39  1229.93    809.48  ...  1710.99   \n",
            "Berlin                354.03  1315.16   254.51   1735.01  ...  1607.99   \n",
            "Brussels              766.67   773.20   489.76   2178.85  ...  2253.26   \n",
            "Bucharest            1571.54  2534.72  1544.17    445.62  ...  1497.56   \n",
            "Budapest             1011.31  1894.95   927.92   1064.76  ...  1565.19   \n",
            "Copenhagen              0.00  1238.38   287.97   2017.17  ...  1558.52   \n",
            "Dublin               1238.38     0.00  1073.36   2950.11  ...  2792.41   \n",
            "Hamburg               287.97  1073.36     0.00   1983.75  ...  1779.93   \n",
            "Istanbul             2017.17  2950.11  1983.75      0.00  ...  1753.97   \n",
            "Kiev                 1326.33  2513.69  1440.34   1052.95  ...   756.61   \n",
            "London                955.13   462.60   720.12   2496.39  ...  2498.32   \n",
            "Madrid               2071.75  1449.96  1785.33   2734.60  ...  3437.70   \n",
            "Milan                1157.89  1413.37   900.01   1669.43  ...  2283.19   \n",
            "Moscow               1558.52  2792.41  1779.93   1753.97  ...     0.00   \n",
            "Munich                838.00  1374.91   610.17   1582.16  ...  1957.15   \n",
            "Paris                1025.90   776.83   744.63   2253.98  ...  2484.92   \n",
            "Prague                633.05  1465.61   492.25   1507.55  ...  1664.04   \n",
            "Rome                 1529.69  1882.22  1307.51   1373.81  ...  2374.26   \n",
            "Saint Petersburg     1143.40  2314.19  1414.16   2099.29  ...   632.59   \n",
            "Sofia                1635.54  2471.02  1554.82    502.61  ...  1777.35   \n",
            "Stockholm             521.68  1626.56   809.65   2171.65  ...  1227.38   \n",
            "Vienna                868.87  1680.00   742.79   1273.88  ...  1669.22   \n",
            "Warsaw                667.80  1823.72   750.49   1386.08  ...  1149.41   \n",
            "\n",
            "                   Munich    Paris   Prague     Rome  Saint Petersburg  \\\n",
            "City                                                                     \n",
            "Barcelona         1054.55   831.59  1353.90   856.69           2813.02   \n",
            "Belgrade           773.33  1445.70   738.10   721.55           1797.75   \n",
            "Berlin             501.97   876.96   280.34  1181.67           1319.62   \n",
            "Brussels           601.87   261.29   721.08  1171.34           1903.66   \n",
            "Bucharest         1186.37  1869.95  1076.82  1137.38           1740.39   \n",
            "Budapest           563.93  1247.61   443.26   811.11           1556.51   \n",
            "Copenhagen         838.00  1025.90   633.05  1529.69           1143.40   \n",
            "Dublin            1374.91   776.83  1465.61  1882.22           2314.19   \n",
            "Hamburg            610.17   744.63   492.25  1307.51           1414.16   \n",
            "Istanbul          1582.16  2253.98  1507.55  1373.81           2099.29   \n",
            "Kiev              1391.36  2022.76  1138.61  1673.74           1051.39   \n",
            "London             916.23   340.55  1034.57  1431.21           2093.69   \n",
            "Madrid            1484.53  1053.40  1773.73  1360.80           3183.43   \n",
            "Milan              348.89   641.31   646.04   476.00           2122.15   \n",
            "Moscow            1957.15  2484.92  1664.04  2374.26            632.59   \n",
            "Munich               0.00   685.14   300.16   698.04           1773.83   \n",
            "Paris              685.14     0.00   885.38  1105.76           2157.99   \n",
            "Prague             300.16   885.38     0.00   922.00           1476.73   \n",
            "Rome               698.04  1105.76   922.00     0.00           2339.22   \n",
            "Saint Petersburg  1773.83  2157.99  1476.73  2339.22              0.00   \n",
            "Sofia             1096.54  1758.03  1064.43   894.06           1969.82   \n",
            "Stockholm         1311.80  1541.83  1052.85  1974.79            688.33   \n",
            "Vienna             354.42  1033.73   250.71   763.26           1577.56   \n",
            "Warsaw             809.02  1365.91   514.69  1316.24           1023.41   \n",
            "\n",
            "                    Sofia  Stockholm   Vienna   Warsaw  \n",
            "City                                                    \n",
            "Barcelona         1745.55    2276.51  1347.43  1862.33  \n",
            "Belgrade           329.46    1620.96   489.28   826.66  \n",
            "Berlin            1318.67     810.38   523.61   516.06  \n",
            "Brussels          1697.83    1280.88   914.81  1159.85  \n",
            "Bucharest          296.68    1742.25   855.32   946.12  \n",
            "Budapest           629.63    1316.59   216.98   545.29  \n",
            "Copenhagen        1635.54     521.68   868.87   667.80  \n",
            "Dublin            2471.02    1626.56  1680.00  1823.72  \n",
            "Hamburg           1554.82     809.65   742.79   750.49  \n",
            "Istanbul           502.61    2171.65  1273.88  1386.08  \n",
            "Kiev              1020.76    1265.79  1052.76   690.12  \n",
            "London            2012.70    1431.07  1233.48  1445.85  \n",
            "Madrid            2250.10    2591.53  1807.09  2288.42  \n",
            "Milan             1166.83    1650.12   623.36  1143.01  \n",
            "Moscow            1777.35    1227.38  1669.22  1149.41  \n",
            "Munich            1096.54    1311.80   354.42   809.02  \n",
            "Paris             1758.03    1541.83  1033.73  1365.91  \n",
            "Prague            1064.43    1052.85   250.71   514.69  \n",
            "Rome               894.06    1974.79   763.26  1316.24  \n",
            "Saint Petersburg  1969.82     688.33  1577.56  1023.41  \n",
            "Sofia                0.00    1884.91   817.45  1076.99  \n",
            "Stockholm         1884.91       0.00  1241.90   808.14  \n",
            "Vienna             817.45    1241.90     0.00   557.43  \n",
            "Warsaw            1076.99     808.14   557.43     0.00  \n",
            "\n",
            "[24 rows x 24 columns]\n"
          ]
        }
      ]
    },
    {
      "cell_type": "markdown",
      "source": [
        "# Forming Emissions Matrix\n",
        "We calculate the cost of every edge as the amount of emissions output by travelling it:\n",
        "\n",
        "\n",
        "> emissions = EF * d\n",
        "\n",
        "where EF = 429.51 - 7.8227 x speed + 0.0617 x (speed^2)\n",
        "\n"
      ],
      "metadata": {
        "id": "oz7xRjQWNK18"
      }
    },
    {
      "cell_type": "code",
      "source": [
        "#Calculating speed matrix\n",
        "speed = distance/flighttime\n",
        "speed = speed.fillna(0)"
      ],
      "metadata": {
        "id": "UNXxmmmIKDeW"
      },
      "execution_count": null,
      "outputs": []
    },
    {
      "cell_type": "code",
      "source": [
        "EF = 429.51 - 7.8227*speed + 0.0617*(speed**2)\n",
        "emissions = EF.mul(distance)"
      ],
      "metadata": {
        "id": "JQNdRxr3cXoM"
      },
      "execution_count": null,
      "outputs": []
    },
    {
      "cell_type": "code",
      "source": [
        "print(emissions)"
      ],
      "metadata": {
        "colab": {
          "base_uri": "https://localhost:8080/"
        },
        "id": "suqbU7nxPS51",
        "outputId": "4ca45f40-7edf-47e4-f7e2-7e2e517702a4"
      },
      "execution_count": null,
      "outputs": [
        {
          "output_type": "stream",
          "name": "stdout",
          "text": [
            "                     Barcelona       Belgrade         Berlin       Brussels  \\\n",
            "City                                                                          \n",
            "Barcelona         0.000000e+00  609680.919348  597690.434205  430875.818338   \n",
            "Belgrade          6.096809e+05       0.000000  405807.094277  549939.981647   \n",
            "Berlin            5.976904e+05  405807.094277       0.000000  268664.517940   \n",
            "Brussels          4.308758e+05  549939.981647  268664.517940       0.000000   \n",
            "Bucharest         7.753137e+05  186497.344496  519127.252450  700121.807537   \n",
            "Budapest          5.992797e+05  133027.433271  283997.300756  457877.834456   \n",
            "Copenhagen        6.961400e+05  532390.041496  148343.004261  314323.407077   \n",
            "Dublin            5.870918e+05  841562.402134  527568.204028  317070.251356   \n",
            "Hamburg           5.876674e+05  494931.367395  105868.362598  203580.845670   \n",
            "Istanbul          8.738115e+05  331586.831225  687653.412996  854017.702004   \n",
            "Kiev              9.327645e+05  396688.940905  484801.264486  725115.528068   \n",
            "London            4.598943e+05  670437.550157  378647.243821  133923.197962   \n",
            "Madrid            2.058064e+05  797813.417876  737724.806509  527951.727392   \n",
            "Milan             2.987444e+05  359620.237200  343015.568294  286978.986101   \n",
            "Moscow            1.164710e+06  681249.184716  641446.581736  884618.099711   \n",
            "Munich            4.290085e+05  318028.409626  205443.017430  249450.490433   \n",
            "Paris             3.403601e+05  578338.677162  358098.904523  110219.448828   \n",
            "Prague            5.430706e+05  303315.113580  118046.348447  296366.274342   \n",
            "Rome              3.502864e+05  296681.096480  476733.023782  472910.194430   \n",
            "Saint Petersburg  1.090360e+06  712197.251118  529944.637499  751648.957820   \n",
            "Sofia             6.914918e+05  138309.722876  528775.844205  673122.479698   \n",
            "Stockholm         8.901675e+05  644212.478257  331469.216928  514341.140450   \n",
            "Vienna            5.414517e+05  203691.053407  217605.432402  373341.492169   \n",
            "Warsaw            7.353283e+05  338069.751816  214242.417192  467787.839506   \n",
            "\n",
            "                      Bucharest       Budapest     Copenhagen        Dublin  \\\n",
            "City                                                                          \n",
            "Barcelona         775313.710918  599279.747983  696140.044980  5.870918e+05   \n",
            "Belgrade          186497.344496  133027.433271  532390.041496  8.415624e+05   \n",
            "Berlin            519127.252450  283997.300756  148343.004261  5.275682e+05   \n",
            "Brussels          700121.807537  457877.834456  314323.407077  3.170703e+05   \n",
            "Bucharest              0.000000  264119.455625  624917.096662  9.852500e+05   \n",
            "Budapest          264119.455625       0.000000  410917.287417  7.491018e+05   \n",
            "Copenhagen        624917.096662  410917.287417       0.000000  4.981078e+05   \n",
            "Dublin            985249.978751  749101.794063  498107.815504  0.000000e+00   \n",
            "Hamburg           614354.997479  378231.559073  121134.947279  4.341711e+05   \n",
            "Istanbul          185781.358434  431811.799058  793311.811848  1.139220e+06   \n",
            "Kiev              305341.099339  364928.108783  531529.140756  9.774688e+05   \n",
            "London            819829.436617  580639.437688  388527.734625  1.927486e+05   \n",
            "Madrid            962046.207562  779721.259768  814043.280425  5.798091e+05   \n",
            "Milan             530827.677877  322224.930257  466331.919187  5.666240e+05   \n",
            "Moscow            599377.357370  626278.124331  622447.453961  1.084499e+06   \n",
            "Munich            479606.762524  234353.681894  343370.231124  5.527327e+05   \n",
            "Paris             738389.515837  503051.089493  416368.760508  3.187291e+05   \n",
            "Prague            435882.378147  185057.777762  261241.090257  5.852674e+05   \n",
            "Rome              459286.645235  332521.326307  609774.997530  7.434376e+05   \n",
            "Saint Petersburg  689754.121204  621470.846695  461986.441926  9.050242e+05   \n",
            "Sofia             124741.187856  260062.312214  649147.255790  9.616834e+05   \n",
            "Stockholm         689282.046389  528908.575100  216468.192321  6.458641e+05   \n",
            "Vienna            349644.774227   91829.619453  355128.487731  6.680792e+05   \n",
            "Warsaw            384529.380642  226224.392175  274975.547247  7.204489e+05   \n",
            "\n",
            "                        Hamburg      Istanbul  ...        Moscow  \\\n",
            "City                                           ...                 \n",
            "Barcelona         587667.368765  8.738115e+05  ...  1.164710e+06   \n",
            "Belgrade          494931.367395  3.315868e+05  ...  6.812492e+05   \n",
            "Berlin            105868.362598  6.876534e+05  ...  6.414466e+05   \n",
            "Brussels          203580.845670  8.540177e+05  ...  8.846181e+05   \n",
            "Bucharest         614354.997479  1.857814e+05  ...  5.993774e+05   \n",
            "Budapest          378231.559073  4.318118e+05  ...  6.262781e+05   \n",
            "Copenhagen        121134.947279  7.933118e+05  ...  6.224475e+05   \n",
            "Dublin            434171.103605  1.139220e+06  ...  1.084499e+06   \n",
            "Hamburg                0.000000  7.806579e+05  ...  7.061200e+05   \n",
            "Istanbul          780657.934213  0.000000e+00  ...  6.976793e+05   \n",
            "Kiev              574865.341453  4.266320e+05  ...  3.112382e+05   \n",
            "London            295856.853986  9.722345e+05  ...  9.760882e+05   \n",
            "Madrid            706385.132811  1.060630e+06  ...  1.322823e+06   \n",
            "Milan             366464.313759  6.593084e+05  ...  8.919587e+05   \n",
            "Moscow            706119.979353  6.976793e+05  ...  0.000000e+00   \n",
            "Munich            247722.302438  6.321258e+05  ...  7.761741e+05   \n",
            "Paris             305788.381080  8.827333e+05  ...  9.719156e+05   \n",
            "Prague            204630.815770  6.017193e+05  ...  6.632163e+05   \n",
            "Rome              524910.789519  5.505009e+05  ...  9.304113e+05   \n",
            "Saint Petersburg  565734.225779  8.254303e+05  ...  2.569455e+05   \n",
            "Sofia             618393.676666  2.088189e+05  ...  7.055860e+05   \n",
            "Stockholm         330968.437705  8.510948e+05  ...  4.953173e+05   \n",
            "Vienna            305289.061138  5.127733e+05  ...  6.659728e+05   \n",
            "Warsaw            307706.990314  5.548555e+05  ...  4.653141e+05   \n",
            "\n",
            "                         Munich          Paris         Prague           Rome  \\\n",
            "City                                                                           \n",
            "Barcelona         429008.477032  340360.085935  543070.587152  350286.396577   \n",
            "Belgrade          318028.409626  578338.677162  303315.113580  296681.096480   \n",
            "Berlin            205443.017430  358098.904523  118046.348447  476733.023782   \n",
            "Brussels          249450.490433  110219.448828  296366.274342  472910.194430   \n",
            "Bucharest         479606.762524  738389.515837  435882.378147  459286.645235   \n",
            "Budapest          234353.681894  503051.089493  185057.777762  332521.326307   \n",
            "Copenhagen        343370.231124  416368.760508  261241.090257  609774.997530   \n",
            "Dublin            552732.740043  318729.091296  585267.437752  743437.567633   \n",
            "Hamburg           247722.302438  305788.381080  204630.815770  524910.789519   \n",
            "Istanbul          632125.765079  882733.289900  601719.297740  550500.850516   \n",
            "Kiev              558502.406670  795817.036158  459836.851907  664192.953608   \n",
            "London            374516.411360  142955.091275  419613.094379  572842.539521   \n",
            "Madrid            595268.947388  427249.929948  702458.854794  545956.860435   \n",
            "Milan             146436.097827  265174.800284  265910.667840  193949.143965   \n",
            "Moscow            776174.121684  971915.612626  663216.270101  930411.344685   \n",
            "Munich                 0.000000  282992.933514  126399.084516  288180.023175   \n",
            "Paris             282992.933514       0.000000  361477.192728  447680.769971   \n",
            "Prague            126399.084516  361477.192728       0.000000  375822.603031   \n",
            "Rome              288180.023175  447680.769971  375822.603031       0.000000   \n",
            "Saint Petersburg  705094.821768  847974.762406  590418.408490  915021.776882   \n",
            "Sofia             444837.438649  696318.339359  431085.442281  364540.850338   \n",
            "Stockholm         527879.655417  614617.234911  426441.705382  777603.836803   \n",
            "Vienna            148905.220920  420137.630593  105861.288786  313592.561998   \n",
            "Warsaw            331848.900672  547449.471127  213745.052329  528176.441369   \n",
            "\n",
            "                  Saint Petersburg          Sofia     Stockholm  \\\n",
            "City                                                              \n",
            "Barcelona             1.090360e+06  691491.795232  8.901675e+05   \n",
            "Belgrade              7.121973e+05  138309.722876  6.442125e+05   \n",
            "Berlin                5.299446e+05  528775.844205  3.314692e+05   \n",
            "Brussels              7.516490e+05  673122.479698  5.143411e+05   \n",
            "Bucharest             6.897541e+05  124741.187856  6.892820e+05   \n",
            "Budapest              6.214708e+05  260062.312214  5.289086e+05   \n",
            "Copenhagen            4.619864e+05  649147.255790  2.164682e+05   \n",
            "Dublin                9.050242e+05  961683.399240  6.458641e+05   \n",
            "Hamburg               5.657342e+05  618393.676666  3.309684e+05   \n",
            "Istanbul              8.254303e+05  208818.913105  8.510948e+05   \n",
            "Kiev                  4.261868e+05  413596.008752  5.083912e+05   \n",
            "London                8.232554e+05  791541.870100  5.718973e+05   \n",
            "Madrid                1.226588e+06  880432.129182  1.006815e+06   \n",
            "Milan                 8.303921e+05  468138.356619  6.533437e+05   \n",
            "Moscow                2.569455e+05  705585.950009  4.953173e+05   \n",
            "Munich                7.050948e+05  444837.438649  5.278797e+05   \n",
            "Paris                 8.479748e+05  696318.339359  6.146172e+05   \n",
            "Prague                5.904184e+05  431085.442281  4.264417e+05   \n",
            "Rome                  9.150218e+05  364540.850338  7.776038e+05   \n",
            "Saint Petersburg      0.000000e+00  775979.074001  2.834738e+05   \n",
            "Sofia                 7.759791e+05       0.000000  7.428477e+05   \n",
            "Stockholm             2.834738e+05  742847.686862  0.000000e+00   \n",
            "Vienna                6.296085e+05  334694.945236  5.002694e+05   \n",
            "Warsaw                4.153441e+05  435388.896087  3.305978e+05   \n",
            "\n",
            "                         Vienna         Warsaw  \n",
            "City                                            \n",
            "Barcelona         541451.699116  735328.251672  \n",
            "Belgrade          203691.053407  338069.751816  \n",
            "Berlin            217605.432402  214242.417192  \n",
            "Brussels          373341.492169  467787.839506  \n",
            "Bucharest         349644.774227  384529.380642  \n",
            "Budapest           91829.619453  226224.392175  \n",
            "Copenhagen        355128.487731  274975.547247  \n",
            "Dublin            668079.159224  720448.884229  \n",
            "Hamburg           305289.061138  307706.990314  \n",
            "Istanbul          512773.278580  554855.475786  \n",
            "Kiev              426858.410974  283849.888844  \n",
            "London            497449.585297  577603.514158  \n",
            "Madrid            716444.092769  894573.858605  \n",
            "Milan             256922.044220  459417.913328  \n",
            "Moscow            665972.755268  465314.124753  \n",
            "Munich            148905.220920  331848.900672  \n",
            "Paris             420137.630593  547449.471127  \n",
            "Prague            105861.288786  213745.052329  \n",
            "Rome              313592.561998  528176.441369  \n",
            "Saint Petersburg  629608.492171  415344.115458  \n",
            "Sofia             334694.945236  435388.896087  \n",
            "Stockholm         500269.402051  330597.757809  \n",
            "Vienna                 0.000000  231138.872593  \n",
            "Warsaw            231138.872593       0.000000  \n",
            "\n",
            "[24 rows x 24 columns]\n"
          ]
        }
      ]
    },
    {
      "cell_type": "markdown",
      "source": [
        "# Plotting the Nodes"
      ],
      "metadata": {
        "id": "D_HKRI-QPhng"
      }
    },
    {
      "cell_type": "code",
      "source": [
        "positions = dict( ( city, (position.loc[city, 'longitude'], position.loc[city, 'latitude']) ) for city in sites)"
      ],
      "metadata": {
        "id": "K18ByABwDw01"
      },
      "execution_count": null,
      "outputs": []
    },
    {
      "cell_type": "code",
      "source": [
        "for s in positions:\n",
        "    p = positions[s]\n",
        "    plt.plot(p[0],p[1],'o')\n",
        "    plt.text(p[0]+.01,p[1],s,horizontalalignment='left',verticalalignment='center')\n",
        "\n",
        "plt.gca().axis('off');"
      ],
      "metadata": {
        "id": "LOMjx4GfDzBh",
        "colab": {
          "base_uri": "https://localhost:8080/",
          "height": 248
        },
        "outputId": "e385be3b-24a9-493d-bf5e-6a9370365c36"
      },
      "execution_count": null,
      "outputs": [
        {
          "output_type": "display_data",
          "data": {
            "text/plain": [
              "<Figure size 432x288 with 1 Axes>"
            ],
            "image/png": "[encoded data removed]"
          },
          "metadata": {
            "needs_background": "light"
          }
        }
      ]
    },
    {
      "cell_type": "markdown",
      "source": [
        "# Formulating the Problem\n",
        "The problem is to minimise the emissions output for all routes formed. The number of routes to be formed is denoted by K."
      ],
      "metadata": {
        "id": "wt9FPD0LQz8e"
      }
    },
    {
      "cell_type": "code",
      "source": [
        "#Get the distance between cities\n",
        "distances = dict( ((s1,s2), emissions.loc[s1, s2] ) for s1 in positions for s2 in positions if s1!=s2)"
      ],
      "metadata": {
        "id": "01FUuFP8Dzp9"
      },
      "execution_count": null,
      "outputs": []
    },
    {
      "cell_type": "code",
      "source": [
        "#Setting the number of routes to be formed\n",
        "K = 3"
      ],
      "metadata": {
        "id": "UyoNGXZpD3jx"
      },
      "execution_count": null,
      "outputs": []
    },
    {
      "cell_type": "code",
      "source": [
        "#Setting the starting point\n",
        "starting_node = 'Berlin'"
      ],
      "metadata": {
        "id": "dEV7rp3iCtZU"
      },
      "execution_count": null,
      "outputs": []
    },
    {
      "cell_type": "code",
      "source": [
        "#Create the problem\n",
        "prob = LpProblem(\"vehicle\", LpMinimize)"
      ],
      "metadata": {
        "id": "X_-S4R_XD7ZR"
      },
      "execution_count": null,
      "outputs": []
    },
    {
      "cell_type": "code",
      "source": [
        "#Variable to indicate if site i is connected to site j in the tour\n",
        "x = LpVariable.dicts('x', distances, 0, 1, LpBinary)\n",
        "#Dummy variables to eliminate subtours\n",
        "u = LpVariable.dicts('u', sites, 0, len(sites)-1, LpInteger)"
      ],
      "metadata": {
        "id": "SgSlnFj5D9Tq"
      },
      "execution_count": null,
      "outputs": []
    },
    {
      "cell_type": "code",
      "source": [
        "#Defining the objective and adding costs to the problem\n",
        "cost = lpSum([x[(i,j)]*distances[(i,j)] for (i,j) in distances])\n",
        "prob += cost"
      ],
      "metadata": {
        "id": "0QZ-SxynD_Zw"
      },
      "execution_count": null,
      "outputs": []
    },
    {
      "cell_type": "code",
      "source": [
        "#Adding constraints\n",
        "for k in sites:\n",
        "    cap = 1 if k != starting_node else K\n",
        "    #Defining number of inbound connections for each node\n",
        "    prob += lpSum([x[(i,k)] for i in sites if (i,k) in x]) == cap\n",
        "    #Defining number of outbound connections for each node\n",
        "    prob += lpSum([x[(k,i)] for i in sites if (k,i) in x]) == cap\n",
        "\n",
        "#Subtour elimination constraints\n",
        "N = len(sites)/K\n",
        "for i in sites:\n",
        "    for j in sites:\n",
        "        if i != j and (i != starting_node and j != starting_node) and (i,j) in x:\n",
        "            prob += u[i] - u[j] <= (N)*(1-x[(i,j)]) - 1"
      ],
      "metadata": {
        "id": "NHtpquS9EBra"
      },
      "execution_count": null,
      "outputs": []
    },
    {
      "cell_type": "code",
      "source": [
        "prob"
      ],
      "metadata": {
        "id": "NNygagWDCQq3"
      },
      "execution_count": null,
      "outputs": []
    },
    {
      "cell_type": "markdown",
      "source": [
        "# Solving the Problem\n",
        "The 'x' dictionary is updated during problem solving. Entry 1 for node pair (i, j) indicates that the edge between i and j exists in the solution. Entry 0 indicates exclusion of the edge from the solution."
      ],
      "metadata": {
        "id": "cqZLgpXGbeOc"
      }
    },
    {
      "cell_type": "code",
      "source": [
        "%time prob.solve()\n",
        "print(LpStatus[prob.status])"
      ],
      "metadata": {
        "id": "KmvbDF6bED54",
        "colab": {
          "base_uri": "https://localhost:8080/"
        },
        "outputId": "7ba859f4-5ff2-4844-91a1-dbae8b627777"
      },
      "execution_count": null,
      "outputs": [
        {
          "output_type": "stream",
          "name": "stdout",
          "text": [
            "CPU times: user 1.42 s, sys: 184 ms, total: 1.61 s\n",
            "Wall time: 4min 44s\n",
            "Optimal\n"
          ]
        }
      ]
    },
    {
      "cell_type": "code",
      "source": [
        "for i in x:\n",
        "  print(value(x[i]))"
      ],
      "metadata": {
        "id": "KspbmTF2c36u"
      },
      "execution_count": null,
      "outputs": []
    },
    {
      "cell_type": "markdown",
      "source": [
        "# Translating the Solution\n",
        "The solution is currently just a dictionary filled with 0s and 1s. This data needs to be translated into human readable routes."
      ],
      "metadata": {
        "id": "03tSOZrmcfm8"
      }
    },
    {
      "cell_type": "code",
      "source": [
        "non_zero_edges = [ e for e in x if value(x[e]) != 0 ]\n",
        "\n",
        "def get_next_site(parent):\n",
        "    #Helper function to get the next edge\n",
        "    edges = [e for e in non_zero_edges if e[0] == parent]\n",
        "    for e in edges:\n",
        "        non_zero_edges.remove(e)\n",
        "    return edges"
      ],
      "metadata": {
        "id": "ThBrbrboEF-y"
      },
      "execution_count": null,
      "outputs": []
    },
    {
      "cell_type": "code",
      "source": [
        "tours = get_next_site(starting_node)"
      ],
      "metadata": {
        "id": "9VbDeP2pftFG"
      },
      "execution_count": null,
      "outputs": []
    },
    {
      "cell_type": "code",
      "source": [
        "tours = [ [e] for e in tours ]"
      ],
      "metadata": {
        "id": "82k1ILyRghWu"
      },
      "execution_count": null,
      "outputs": []
    },
    {
      "cell_type": "code",
      "source": [
        "for t in tours:\n",
        "  while t[-1][1] != starting_node:\n",
        "      t.append(get_next_site(t[-1][1])[-1])"
      ],
      "metadata": {
        "id": "50cYGkVOEQqN"
      },
      "execution_count": null,
      "outputs": []
    },
    {
      "cell_type": "code",
      "source": [
        "#Printing the generated routes\n",
        "for t in tours:\n",
        "    print(' -> '.join([a for a,b in t]+[starting_node]))"
      ],
      "metadata": {
        "id": "FJn39OAkES3k",
        "colab": {
          "base_uri": "https://localhost:8080/"
        },
        "outputId": "1137b62a-dc2b-4cf5-a5f3-70b3c8684608"
      },
      "execution_count": null,
      "outputs": [
        {
          "output_type": "stream",
          "name": "stdout",
          "text": [
            "Berlin -> Brussels -> Paris -> London -> Dublin -> Madrid -> Barcelona -> Milan -> Munich -> Berlin\n",
            "Berlin -> Rome -> Sofia -> Istanbul -> Bucharest -> Belgrade -> Budapest -> Vienna -> Prague -> Berlin\n",
            "Berlin -> Warsaw -> Kiev -> Moscow -> Saint Petersburg -> Stockholm -> Copenhagen -> Hamburg -> Berlin\n"
          ]
        }
      ]
    },
    {
      "cell_type": "code",
      "source": [
        "#Calculating total time needed to traverse all routes parallely\n",
        "totalTime = 0;\n",
        "for t in tours:\n",
        "    time = 0\n",
        "    for i in range(0, len(t)):\n",
        "        time += flighttime.loc[t[i][0], t[i][1]]\n",
        "    if time > totalTime:\n",
        "        totalTime = time\n",
        "print(totalTime)"
      ],
      "metadata": {
        "id": "RC9FI1LYEVJ7",
        "colab": {
          "base_uri": "https://localhost:8080/"
        },
        "outputId": "7d4dd5c9-f15c-4915-fd8c-807213fbf841"
      },
      "execution_count": null,
      "outputs": [
        {
          "output_type": "stream",
          "name": "stdout",
          "text": [
            "2546\n"
          ]
        }
      ]
    },
    {
      "cell_type": "markdown",
      "source": [
        "# Final Solution"
      ],
      "metadata": {
        "id": "TF_B9EP0e6Kb"
      }
    },
    {
      "cell_type": "code",
      "source": [
        "#Plotting the tours\n",
        "colors = [np.random.rand(3) for i in range(len(tours))]\n",
        "for t,c in zip(tours,colors):\n",
        "    for a,b in t:\n",
        "        p1,p2 = positions[a], positions[b]\n",
        "        plt.plot([p1[0],p2[0]],[p1[1],p2[1]], color=c)\n",
        "\n",
        "for s in positions:\n",
        "    p = positions[s]\n",
        "    plt.plot(p[0],p[1],'o')\n",
        "    plt.text(p[0]+.01,p[1],s,horizontalalignment='left',verticalalignment='center')\n",
        "\n",
        "plt.title('%d '%K + 'people' if K > 1 else 'person')\n",
        "plt.xlabel('latitude')\n",
        "plt.ylabel('longitude')\n",
        "plt.show()"
      ],
      "metadata": {
        "id": "0fzeQGzNEXX9",
        "colab": {
          "base_uri": "https://localhost:8080/",
          "height": 295
        },
        "outputId": "5c19eaef-d173-4fff-fe7e-3ba4e9273ebd"
      },
      "execution_count": null,
      "outputs": [
        {
          "output_type": "display_data",
          "data": {
            "text/plain": [
              "<Figure size 432x288 with 1 Axes>"
            ],
            "image/png": "[encoded data removed]"
          },
          "metadata": {
            "needs_background": "light"
          }
        }
      ]
    },
    {
      "cell_type": "code",
      "source": [
        "print('Longest time spent in route traversal:', totalTime, '(min)')\n",
        "print('Total emissions during traversal:', value(prob.objective)/1000, '(kg)')"
      ],
      "metadata": {
        "id": "AN2X6PzMEZd-",
        "colab": {
          "base_uri": "https://localhost:8080/"
        },
        "outputId": "f9a981e9-3ab8-4762-d661-5ddaaf9fd6eb"
      },
      "execution_count": null,
      "outputs": [
        {
          "output_type": "stream",
          "name": "stdout",
          "text": [
            "Longest time spent in route traversal: 2546 (min)\n",
            "Total emissions during traversal: 5815.184188561756 (kg)\n"
          ]
        }
      ]
    }
  ]
}